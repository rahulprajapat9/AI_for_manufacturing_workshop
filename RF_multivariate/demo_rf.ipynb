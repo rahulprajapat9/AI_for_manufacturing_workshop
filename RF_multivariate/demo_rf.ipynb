{
 "cells": [
  {
   "cell_type": "code",
   "execution_count": 1,
   "metadata": {},
   "outputs": [],
   "source": [
    "import pandas as pd\n",
    "import numpy as np\n",
    "from sklearn import metrics\n",
    "%matplotlib notebook\n",
    "import matplotlib.pyplot as plt\n",
    "import seaborn as sns\n",
    "%matplotlib inline"
   ]
  },
  {
   "cell_type": "code",
   "execution_count": 2,
   "metadata": {},
   "outputs": [
    {
     "name": "stderr",
     "output_type": "stream",
     "text": [
      "/Library/Frameworks/Python.framework/Versions/3.6/lib/python3.6/site-packages/sklearn/ensemble/weight_boosting.py:29: DeprecationWarning: numpy.core.umath_tests is an internal NumPy module and should not be imported. It will be removed in a future NumPy release.\n",
      "  from numpy.core.umath_tests import inner1d\n"
     ]
    }
   ],
   "source": [
    "from sklearn.model_selection import train_test_split\n",
    "# Import the model we are using\n",
    "from sklearn.ensemble import RandomForestRegressor"
   ]
  },
  {
   "cell_type": "code",
   "execution_count": 12,
   "metadata": {},
   "outputs": [],
   "source": [
    "data_pdf = pd.read_csv(\"signals.csv\")"
   ]
  },
  {
   "cell_type": "code",
   "execution_count": 13,
   "metadata": {},
   "outputs": [],
   "source": [
    "drop_list = [c for c in data_pdf.columns if c.startswith('quality')]\n",
    "drop_list.remove('quality_parameter_13')\n",
    "t = list(range(6, 12))+list(range(108, 114))+list(range(18, 36))\n",
    "t = ['input_parameter_'+str(i).zfill(3) for i in t]\n",
    "drop_list+=t\n",
    "data_pdf.drop(drop_list, axis=1, inplace=True)"
   ]
  },
  {
   "cell_type": "code",
   "execution_count": 14,
   "metadata": {},
   "outputs": [
    {
     "data": {
      "text/plain": [
       "815"
      ]
     },
     "execution_count": 14,
     "metadata": {},
     "output_type": "execute_result"
    }
   ],
   "source": [
    "len(data_pdf[data_pdf[\"QUALITY_STATUS\"] == 1])"
   ]
  },
  {
   "cell_type": "code",
   "execution_count": 15,
   "metadata": {},
   "outputs": [
    {
     "data": {
      "text/plain": [
       "166"
      ]
     },
     "execution_count": 15,
     "metadata": {},
     "output_type": "execute_result"
    }
   ],
   "source": [
    "len(data_pdf[data_pdf[\"QUALITY_STATUS\"] == 0])"
   ]
  },
  {
   "cell_type": "markdown",
   "metadata": {},
   "source": [
    "##### Pre-processing"
   ]
  },
  {
   "cell_type": "code",
   "execution_count": 16,
   "metadata": {},
   "outputs": [],
   "source": [
    "### Convert captial columns names to lower case\n",
    "data_col_list = data_pdf.columns\n",
    "new_list = []\n",
    "for itr,col in enumerate(data_col_list):\n",
    "    new_list.append(col.lower())\n",
    "    \n",
    "data_pdf.columns = new_list  \n",
    "data_pdf = data_pdf.dropna()"
   ]
  },
  {
   "cell_type": "code",
   "execution_count": 17,
   "metadata": {},
   "outputs": [],
   "source": [
    "data_pdf.drop([\"quality_status\"], axis=1, inplace=True)"
   ]
  },
  {
   "cell_type": "code",
   "execution_count": 18,
   "metadata": {},
   "outputs": [],
   "source": [
    "X=data_pdf[list([col for col in data_pdf.columns if col != \"quality_parameter_13\"])]  # Features\n",
    "y=data_pdf['quality_parameter_13']  # Labels\n",
    "\n",
    "# Split dataset into training set and test set\n",
    "X_train, X_test, y_train, y_test = train_test_split(X, y, test_size=0.2)"
   ]
  },
  {
   "cell_type": "markdown",
   "metadata": {},
   "source": [
    "##### Grid Search\n"
   ]
  },
  {
   "cell_type": "code",
   "execution_count": 19,
   "metadata": {},
   "outputs": [
    {
     "data": {
      "text/plain": [
       "[200, 733, 1266, 1800, 2333, 2866, 3400, 3933, 4466, 5000]"
      ]
     },
     "execution_count": 19,
     "metadata": {},
     "output_type": "execute_result"
    }
   ],
   "source": [
    "[int(x) for x in np.linspace(start = 200, stop = 5000, num = 10)]"
   ]
  },
  {
   "cell_type": "code",
   "execution_count": 20,
   "metadata": {},
   "outputs": [
    {
     "data": {
      "text/plain": [
       "[3, 4, 5, 6, 7, 8]"
      ]
     },
     "execution_count": 20,
     "metadata": {},
     "output_type": "execute_result"
    }
   ],
   "source": [
    "[int(x) for x in np.linspace(3, 8, num = 6)]"
   ]
  },
  {
   "cell_type": "code",
   "execution_count": 21,
   "metadata": {},
   "outputs": [],
   "source": [
    "from sklearn.model_selection import RandomizedSearchCV\n",
    "# Number of trees in random forest\n",
    "n_estimators = [int(x) for x in np.linspace(start = 200, stop = 5000, num = 10)]\n",
    "# Number of features to consider at every split\n",
    "max_features = ['auto', 'sqrt']\n",
    "# Maximum number of levels in tree\n",
    "max_depth = [int(x) for x in np.linspace(3, 8, num = 6)]\n",
    "# Minimum number of samples required to split a node\n",
    "min_samples_split = [2, 5, 10]\n",
    "# Minimum number of samples required at each leaf node\n",
    "min_samples_leaf = [1, 2, 4]\n",
    "# Method of selecting samples for training each tree\n",
    "bootstrap = [True, False]\n",
    "# Create the random grid\n",
    "random_grid = {'n_estimators': n_estimators,\n",
    "               'max_features': max_features,\n",
    "               'max_depth': max_depth,\n",
    "               'min_samples_split': min_samples_split,\n",
    "               'min_samples_leaf': min_samples_leaf,\n",
    "               'bootstrap': bootstrap}"
   ]
  },
  {
   "cell_type": "code",
   "execution_count": 25,
   "metadata": {},
   "outputs": [
    {
     "name": "stdout",
     "output_type": "stream",
     "text": [
      "Fitting 3 folds for each of 2 candidates, totalling 6 fits\n",
      "[CV] n_estimators=1266, min_samples_split=2, min_samples_leaf=2, max_features=sqrt, max_depth=5, bootstrap=True \n",
      "[CV] n_estimators=1266, min_samples_split=2, min_samples_leaf=2, max_features=sqrt, max_depth=5, bootstrap=True \n",
      "[CV] n_estimators=1266, min_samples_split=2, min_samples_leaf=2, max_features=sqrt, max_depth=5, bootstrap=True \n",
      "[CV] n_estimators=1266, min_samples_split=10, min_samples_leaf=1, max_features=auto, max_depth=5, bootstrap=True \n",
      "[CV]  n_estimators=1266, min_samples_split=2, min_samples_leaf=2, max_features=sqrt, max_depth=5, bootstrap=True, total=   5.4s\n",
      "[CV]  n_estimators=1266, min_samples_split=2, min_samples_leaf=2, max_features=sqrt, max_depth=5, bootstrap=True, total=   5.4s\n",
      "[CV] n_estimators=1266, min_samples_split=10, min_samples_leaf=1, max_features=auto, max_depth=5, bootstrap=True \n",
      "[CV] n_estimators=1266, min_samples_split=10, min_samples_leaf=1, max_features=auto, max_depth=5, bootstrap=True \n",
      "[CV]  n_estimators=1266, min_samples_split=2, min_samples_leaf=2, max_features=sqrt, max_depth=5, bootstrap=True, total=   5.5s\n"
     ]
    },
    {
     "name": "stderr",
     "output_type": "stream",
     "text": [
      "[Parallel(n_jobs=-1)]: Done   3 out of   6 | elapsed:    5.8s remaining:    5.8s\n"
     ]
    },
    {
     "name": "stdout",
     "output_type": "stream",
     "text": [
      "[CV]  n_estimators=1266, min_samples_split=10, min_samples_leaf=1, max_features=auto, max_depth=5, bootstrap=True, total=  21.6s\n",
      "[CV]  n_estimators=1266, min_samples_split=10, min_samples_leaf=1, max_features=auto, max_depth=5, bootstrap=True, total=  19.5s\n",
      "[CV]  n_estimators=1266, min_samples_split=10, min_samples_leaf=1, max_features=auto, max_depth=5, bootstrap=True, total=  19.7s\n"
     ]
    },
    {
     "name": "stderr",
     "output_type": "stream",
     "text": [
      "[Parallel(n_jobs=-1)]: Done   6 out of   6 | elapsed:   25.5s finished\n"
     ]
    },
    {
     "data": {
      "text/plain": [
       "RandomizedSearchCV(cv=3, error_score='raise',\n",
       "          estimator=RandomForestRegressor(bootstrap=True, criterion='mse', max_depth=None,\n",
       "           max_features='auto', max_leaf_nodes=None,\n",
       "           min_impurity_decrease=0.0, min_impurity_split=None,\n",
       "           min_samples_leaf=1, min_samples_split=2,\n",
       "           min_weight_fraction_leaf=0.0, n_estimators=10, n_jobs=1,\n",
       "           oob_score=False, random_state=None, verbose=0, warm_start=False),\n",
       "          fit_params=None, iid=True, n_iter=2, n_jobs=-1,\n",
       "          param_distributions={'n_estimators': [200, 733, 1266, 1800, 2333, 2866, 3400, 3933, 4466, 5000], 'max_features': ['auto', 'sqrt'], 'max_depth': [3, 4, 5, 6, 7, 8], 'min_samples_split': [2, 5, 10], 'min_samples_leaf': [1, 2, 4], 'bootstrap': [True, False]},\n",
       "          pre_dispatch='2*n_jobs', random_state=12345, refit=True,\n",
       "          return_train_score='warn', scoring=None, verbose=2)"
      ]
     },
     "execution_count": 25,
     "metadata": {},
     "output_type": "execute_result"
    }
   ],
   "source": [
    "rf = RandomForestRegressor()\n",
    "rf_random = RandomizedSearchCV(estimator = rf, param_distributions = random_grid, \n",
    "                               n_iter = 1000, cv = 3, verbose=2, random_state=12345, n_jobs = -1)\n",
    "\n",
    "# Fit the random search model\n",
    "rf_random.fit(X_train, y_train)"
   ]
  },
  {
   "cell_type": "code",
   "execution_count": 26,
   "metadata": {},
   "outputs": [
    {
     "data": {
      "text/plain": [
       "{'n_estimators': 1266,\n",
       " 'min_samples_split': 2,\n",
       " 'min_samples_leaf': 2,\n",
       " 'max_features': 'sqrt',\n",
       " 'max_depth': 5,\n",
       " 'bootstrap': True}"
      ]
     },
     "execution_count": 26,
     "metadata": {},
     "output_type": "execute_result"
    }
   ],
   "source": [
    "rf_random.best_params_"
   ]
  },
  {
   "cell_type": "code",
   "execution_count": 27,
   "metadata": {},
   "outputs": [
    {
     "name": "stdout",
     "output_type": "stream",
     "text": [
      "[0.03158894 0.02631971 0.02988314 0.0281534  0.02939927 0.02700457\n",
      " 0.02581598 0.02701919 0.02605176 0.03113623 0.03218862 0.03232051\n",
      " 0.03054076 0.03283911 0.03041024 0.02901613 0.02881926 0.03259818\n",
      " 0.02929331 0.02617499 0.02905719 0.02920502 0.03320054 0.0287659\n",
      " 0.02689269 0.03217543 0.03031898 0.03380023 0.0276817  0.02930488\n",
      " 0.02698942 0.02691318 0.0311139  0.02283824 0.02621892 0.0310169\n",
      " 0.03178981 0.03180085 0.02574306 0.02617356 0.02857071 0.02840261\n",
      " 0.02977008 0.03517838 0.03412225 0.02876724 0.0297608  0.02674778\n",
      " 0.0255615  0.03191874 0.02485403 0.02837844 0.027887   0.031768\n",
      " 0.02619535 0.0302377  0.03045316 0.03017688 0.02597799 0.03089391\n",
      " 0.03148305 0.02961886 0.02739137 0.02854373 0.03115308 0.02935178\n",
      " 0.02521977 0.02959216 0.02933627 0.02897245 0.03012807 0.02588696\n",
      " 0.02770003 0.02674319 0.02736957 0.02976198 0.0326896  0.02549524\n",
      " 0.02545243 0.02959073 0.03248194 0.0305818  0.03381068 0.02614231\n",
      " 0.02779132 0.03074264 0.02427672 0.02981577 0.03121271 0.03077196\n",
      " 0.03555401 0.0296157  0.02946256 0.02924846 0.03508036 0.02732182\n",
      " 0.03103069 0.02661297 0.02923017 0.0338144  0.02904467 0.02552672\n",
      " 0.02843131 0.02716915 0.02736337 0.02684203 0.02640938 0.03153016\n",
      " 0.02583319 0.03028705 0.03221969 0.02874713 0.02782269 0.0265846\n",
      " 0.02773912 0.03054854 0.03127374 0.02608855 0.02950129 0.02888494\n",
      " 0.02444651 0.02888206 0.02641753 0.03008275 0.02885132 0.02720381\n",
      " 0.03080179 0.02672292 0.02794969 0.0294547  0.03267433 0.02635033\n",
      " 0.02835612 0.02990879 0.02756226 0.02650418 0.03213541 0.02998039\n",
      " 0.02522065 0.02817137 0.0297172  0.03115768 0.02822479 0.03029721\n",
      " 0.03191089 0.02891161 0.03283932 0.15095099 0.03268425 0.02818849\n",
      " 0.02415595 0.02588302 0.03204767 0.02994839 0.0321577  0.02547862\n",
      " 0.03032581 0.02584954 0.02975737 0.02575725 0.02765189 0.03154153\n",
      " 0.02569357 0.15093131 0.02940637 0.03198257 0.02701256 0.03082778\n",
      " 0.02445359 0.02660231 0.02582249 0.0259064  0.0324905  0.03214308\n",
      " 0.03053093 0.03076057 0.02284492 0.02600922 0.02584392 0.02604114\n",
      " 0.02690893 0.02868807 0.03239715 0.027858   0.02523477 0.14335878\n",
      " 0.02802433 0.03383717 0.02766408 0.0274374  0.03488058 0.02846184\n",
      " 0.02650679 0.03023035 0.03187675 0.03056227 0.03393196]\n",
      "[0.037 0.028 0.024 0.031 0.029 0.024 0.028 0.027 0.025 0.026 0.04  0.03\n",
      " 0.026 0.035 0.029 0.027 0.021 0.03  0.023 0.023 0.03  0.038 0.029 0.028\n",
      " 0.022 0.032 0.03  0.03  0.03  0.027 0.029 0.027 0.029 0.018 0.024 0.029\n",
      " 0.027 0.023 0.024 0.026 0.028 0.027 0.031 0.051 0.035 0.034 0.034 0.026\n",
      " 0.021 0.037 0.027 0.033 0.034 0.038 0.026 0.031 0.032 0.03  0.022 0.026\n",
      " 0.03  0.03  0.027 0.027 0.021 0.027 0.03  0.028 0.028 0.029 0.031 0.029\n",
      " 0.029 0.027 0.05  0.031 0.05  0.029 0.027 0.029 0.037 0.039 0.042 0.029\n",
      " 0.03  0.03  0.02  0.021 0.034 0.04  0.038 0.03  0.035 0.03  0.04  0.028\n",
      " 0.03  0.024 0.03  0.038 0.034 0.027 0.03  0.028 0.027 0.027 0.029 0.027\n",
      " 0.026 0.03  0.031 0.028 0.026 0.019 0.03  0.025 0.03  0.022 0.037 0.03\n",
      " 0.025 0.03  0.028 0.03  0.04  0.018 0.029 0.034 0.03  0.03  0.038 0.03\n",
      " 0.036 0.024 0.03  0.026 0.023 0.021 0.025 0.021 0.024 0.03  0.024 0.034\n",
      " 0.029 0.016 0.031 0.034 0.032 0.03  0.025 0.028 0.037 0.03  0.026 0.024\n",
      " 0.04  0.023 0.03  0.019 0.023 0.03  0.024 0.02  0.034 0.004 0.03  0.038\n",
      " 0.02  0.028 0.038 0.026 0.04  0.05  0.034 0.029 0.02  0.026 0.023 0.028\n",
      " 0.03  0.03  0.03  0.021 0.025 0.    0.02  0.037 0.024 0.025 0.03  0.03\n",
      " 0.026 0.032 0.028 0.024 0.029]\n"
     ]
    },
    {
     "data": {
      "image/png": "[encoded data removed]",
      "text/plain": [
       "<Figure size 432x288 with 1 Axes>"
      ]
     },
     "metadata": {},
     "output_type": "display_data"
    }
   ],
   "source": [
    "rf = RandomForestRegressor(n_estimators = 600, max_depth = 7, random_state = 12345)\n",
    "# Train the model on training data\n",
    "rf.fit(X_train, y_train)\n",
    "\n",
    "# Use the forest's predict method on the test data\n",
    "predictions = rf.predict(X_test)\n",
    "train_predictions = rf.predict(X_train)\n",
    "\n",
    "print(predictions)\n",
    "print(y_test.values)\n",
    "\n",
    "from matplotlib import pyplot\n",
    "\n",
    "pyplot.plot(predictions)\n",
    "pyplot.plot(y_test.values)\n",
    "pyplot.show()"
   ]
  },
  {
   "cell_type": "markdown",
   "metadata": {},
   "source": [
    "##### Mean Absolute Error"
   ]
  },
  {
   "cell_type": "code",
   "execution_count": 28,
   "metadata": {},
   "outputs": [
    {
     "name": "stdout",
     "output_type": "stream",
     "text": [
      "[Test Data] Mean Absolute Error: 0.005620607876732531\n",
      "[Train Data] Mean Absolute Error: 0.0027843147072089567\n"
     ]
    }
   ],
   "source": [
    "mae = metrics.mean_absolute_error(y_test, predictions)\n",
    "print(\"[Test Data] Mean Absolute Error: {0}\".format(mae))\n",
    "print(\"[Train Data] Mean Absolute Error: {0}\".format(metrics.mean_absolute_error(y_train, train_predictions)))"
   ]
  },
  {
   "cell_type": "markdown",
   "metadata": {},
   "source": [
    "##### Mean Squared Error"
   ]
  },
  {
   "cell_type": "code",
   "execution_count": 29,
   "metadata": {},
   "outputs": [
    {
     "name": "stdout",
     "output_type": "stream",
     "text": [
      "[Test Data] Mean Squared Error: 0.00029 \n",
      "[Train Data] Mean Squared Error: 0.00003 \n"
     ]
    }
   ],
   "source": [
    "mse = metrics.mean_squared_error(y_test, predictions)\n",
    "print(\"[Test Data] Mean Squared Error: %.5f \" % mse)\n",
    "print(\"[Train Data] Mean Squared Error: %.5f \" % metrics.mean_squared_error(y_train, train_predictions))"
   ]
  },
  {
   "cell_type": "markdown",
   "metadata": {},
   "source": [
    "##### Median Absolute Error"
   ]
  },
  {
   "cell_type": "code",
   "execution_count": 30,
   "metadata": {},
   "outputs": [
    {
     "name": "stdout",
     "output_type": "stream",
     "text": [
      "[Test Data] Median Absolute Error: 0.0024377394473163484\n",
      "[Train Data] Median Absolute Error: 0.002142657054550457\n"
     ]
    }
   ],
   "source": [
    "medae = metrics.median_absolute_error(y_test, predictions)\n",
    "print(\"[Test Data] Median Absolute Error: {0}\".format(medae))\n",
    "print(\"[Train Data] Median Absolute Error: {0}\".format(metrics.median_absolute_error(y_train, train_predictions)))"
   ]
  },
  {
   "cell_type": "markdown",
   "metadata": {},
   "source": [
    "##### R2 Score"
   ]
  },
  {
   "cell_type": "code",
   "execution_count": 31,
   "metadata": {},
   "outputs": [
    {
     "name": "stdout",
     "output_type": "stream",
     "text": [
      "[Test Data] R2 Score: -5.9390471853202085\n",
      "[Train Data] R2 Score: 0.7587357159852636\n"
     ]
    }
   ],
   "source": [
    "r2score = metrics.r2_score(y_test, predictions)\n",
    "print(\"[Test Data] R2 Score: {0}\".format(r2score))\n",
    "print(\"[Train Data] R2 Score: {0}\".format(metrics.r2_score(y_train, train_predictions)))"
   ]
  },
  {
   "cell_type": "markdown",
   "metadata": {},
   "source": [
    "#### Plot prediction Vs True Values"
   ]
  },
  {
   "cell_type": "code",
   "execution_count": 32,
   "metadata": {},
   "outputs": [
    {
     "data": {
      "text/plain": [
       "Text(0,0.5,'Predictions')"
      ]
     },
     "execution_count": 32,
     "metadata": {},
     "output_type": "execute_result"
    },
    {
     "data": {
      "image/png": "[encoded data removed]",
      "text/plain": [
       "<Figure size 432x288 with 1 Axes>"
      ]
     },
     "metadata": {},
     "output_type": "display_data"
    }
   ],
   "source": [
    "## The line / model\n",
    "plt.scatter(y_test, predictions)\n",
    "plt.plot([0.00, 0.05, 0.10, 0.15], [0.00, 0.05, 0.10, 0.15], color=\"red\")\n",
    "plt.xlabel(\"True Values\")\n",
    "plt.ylabel(\"Predictions\")"
   ]
  },
  {
   "cell_type": "markdown",
   "metadata": {},
   "source": [
    "##### Feature Importance"
   ]
  },
  {
   "cell_type": "code",
   "execution_count": 33,
   "metadata": {},
   "outputs": [],
   "source": [
    "feature_imp = pd.Series(rf.feature_importances_,index=X_train.columns).sort_values(ascending=False)"
   ]
  },
  {
   "cell_type": "code",
   "execution_count": 34,
   "metadata": {},
   "outputs": [],
   "source": [
    "feature_imp = feature_imp[feature_imp > 0.0100]"
   ]
  },
  {
   "cell_type": "code",
   "execution_count": 35,
   "metadata": {},
   "outputs": [
    {
     "data": {
      "text/plain": [
       "input_parameter_169    0.338313\n",
       "input_parameter_143    0.046678\n",
       "input_parameter_041    0.020960\n",
       "input_parameter_126    0.015472\n",
       "input_parameter_037    0.014546\n",
       "input_parameter_003    0.014057\n",
       "input_parameter_142    0.013659\n",
       "input_parameter_036    0.012652\n",
       "input_parameter_044    0.012184\n",
       "input_parameter_075    0.011933\n",
       "input_parameter_074    0.011843\n",
       "input_parameter_115    0.010611\n",
       "input_parameter_047    0.010548\n",
       "input_parameter_197    0.010361\n",
       "input_parameter_045    0.010061\n",
       "dtype: float64"
      ]
     },
     "execution_count": 35,
     "metadata": {},
     "output_type": "execute_result"
    }
   ],
   "source": [
    "feature_imp"
   ]
  },
  {
   "cell_type": "code",
   "execution_count": 36,
   "metadata": {},
   "outputs": [
    {
     "name": "stderr",
     "output_type": "stream",
     "text": [
      "No handles with labels found to put in legend.\n"
     ]
    },
    {
     "data": {
      "image/png": "[encoded data removed]",
      "text/plain": [
       "<Figure size 432x288 with 1 Axes>"
      ]
     },
     "metadata": {},
     "output_type": "display_data"
    }
   ],
   "source": [
    "# Creating a bar plot\n",
    "sns.barplot(x=feature_imp, y=feature_imp.index)\n",
    "# Add labels to your graph\n",
    "plt.xlabel('Feature Importance Score')\n",
    "plt.ylabel('Features')\n",
    "plt.title(\"Visualizing Important Features\")\n",
    "plt.legend()\n",
    "plt.show()"
   ]
  },
  {
   "cell_type": "code",
   "execution_count": null,
   "metadata": {},
   "outputs": [],
   "source": []
  }
 ],
 "metadata": {
  "kernelspec": {
   "display_name": "Python 3",
   "language": "python",
   "name": "python3"
  },
  "language_info": {
   "codemirror_mode": {
    "name": "ipython",
    "version": 3
   },
   "file_extension": ".py",
   "mimetype": "text/x-python",
   "name": "python",
   "nbconvert_exporter": "python",
   "pygments_lexer": "ipython3",
   "version": "3.6.2"
  }
 },
 "nbformat": 4,
 "nbformat_minor": 2
}
